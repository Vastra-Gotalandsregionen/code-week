{
 "cells": [
  {
   "cell_type": "markdown",
   "metadata": {},
   "source": [
    "# Machine learning med tio rader kod\n",
    "Att lära en maskin genom exempel och erfarenheter, istället för att manuellt mata in regler. Detta genom supervised machine learning.\n",
    "Maskinen ska förutspå om en ny frukt är en apelsin eller äpple baserat på tidigare erfarenheter."
   ]
  },
  {
   "cell_type": "markdown",
   "metadata": {},
   "source": [
    "## 1. Samla in träningsdata\n",
    "Det som avslöjar denna machine learning som just en *supervised* machine learning är för att vi har labels. Labels är de etiketter med beskrivande svar vi matar maskinen med.\n",
    "\n",
    "*Obs! De kantiga parenteserna får du till genom knappen Alt Gr och siffrorna 8 eller 9 på Windows. På Mac heter Alt Gr istället Option.*"
   ]
  },
  {
   "cell_type": "code",
   "execution_count": null,
   "metadata": {},
   "outputs": [],
   "source": []
  },
  {
   "cell_type": "markdown",
   "metadata": {},
   "source": [
    "## 2. Träna upp klassificeraren och leta mönster i data\n",
    "Vi kör med ett beslutsträd (decision tree)"
   ]
  },
  {
   "cell_type": "code",
   "execution_count": null,
   "metadata": {},
   "outputs": [],
   "source": []
  },
  {
   "cell_type": "markdown",
   "metadata": {},
   "source": [
    "## 3. Predicera\n",
    "Förutsäg vilken sorts frukt något är baserat på dess egenskaper"
   ]
  },
  {
   "cell_type": "code",
   "execution_count": null,
   "metadata": {},
   "outputs": [],
   "source": []
  },
  {
   "cell_type": "markdown",
   "metadata": {},
   "source": [
    "Grattis! Nu har du prövat på övervakad maskininlärning, en av AI-teknikerna."
   ]
  }
 ],
 "metadata": {
  "kernelspec": {
   "display_name": "Python 3 (ipykernel)",
   "language": "python",
   "name": "python3"
  },
  "language_info": {
   "codemirror_mode": {
    "name": "ipython",
    "version": 3
   },
   "file_extension": ".py",
   "mimetype": "text/x-python",
   "name": "python",
   "nbconvert_exporter": "python",
   "pygments_lexer": "ipython3",
   "version": "3.7.11"
  }
 },
 "nbformat": 4,
 "nbformat_minor": 1
}
