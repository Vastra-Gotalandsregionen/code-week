{
 "cells": [
  {
   "cell_type": "markdown",
   "metadata": {},
   "source": [
    "# En introduktion till Python-programmering\n",
    "Den här miljön kallas för Jupyter och är ett enkelt sätt att stegvis bygga upp något. Jupyter och programmeringsspråket Python är mycket populärt inom yrkeskåren kallad *data science*, det vill säga de som jobbar i gränslandet mellan statistik och systemutveckling. De som utvecklar AI-tekniker brukar ofta vara just data scientists."
   ]
  },
  {
   "cell_type": "markdown",
   "metadata": {},
   "source": [
    "## 0. Intro till Jupyter\n",
    "De här olika rutorna kallas för celler. De som har vit bakgrund är vanlig text och fungerar som dokumentation. Kod skriver du in i rutor med grå bakgrundsfärg. Detta kan man råka fumla till, så då markerar man en cell och väljer antingen **Markdown** eller **Code** i rullistan ovan.\n",
    "\n",
    "I verktygsfältet ovan finns några fler saker du behöver känna till. Knappen **Run** är den som kör en cell där du skrivit in kod, den gör också att du hoppar ur celler med dokumentation.\n",
    "Du kan skapa nya celler under **Insert**. Vill du ta bort en cell markerar du den och går in i **Edit**-menyn."
   ]
  },
  {
   "cell_type": "markdown",
   "metadata": {},
   "source": [
    "## 1. Skriv ut något på skärmen\n",
    "En klassiker är att skriva ut texten \"Hello world!\". Det gör vi med kommandot print()"
   ]
  },
  {
   "cell_type": "code",
   "execution_count": null,
   "metadata": {},
   "outputs": [],
   "source": []
  },
  {
   "cell_type": "markdown",
   "metadata": {},
   "source": [
    "## 2. Operatorer\n",
    "Ett fint ord för de olika räknesätten (och lite annat)."
   ]
  },
  {
   "cell_type": "code",
   "execution_count": null,
   "metadata": {},
   "outputs": [],
   "source": []
  },
  {
   "cell_type": "markdown",
   "metadata": {},
   "source": [
    "## 3. Variabler\n",
    "För att mellanlagra information kan man använda variabler. Det är som namngivna behållare du kan stoppa ner lite allt möjligt. En poäng med variabler är att din kod blir lättare att läsa."
   ]
  },
  {
   "cell_type": "code",
   "execution_count": null,
   "metadata": {},
   "outputs": [],
   "source": []
  },
  {
   "cell_type": "markdown",
   "metadata": {},
   "source": [
    "## 4. Lista saker\n",
    "Det finns flera olika sorters listor inom programmering. De är specialiserade för olika användningsområden, som att alltid vara sorterade eller kunna innehålla olika komplexa saker."
   ]
  },
  {
   "cell_type": "code",
   "execution_count": null,
   "metadata": {},
   "outputs": [],
   "source": []
  },
  {
   "cell_type": "markdown",
   "metadata": {},
   "source": [
    "## 5. Importera funktioner och moduler\n",
    "Programmeringsspråk har en massa funktioner man kan lära känna och ha nytta av. Exempelvis kan man be om hjälp med saker som värdet Pi istället för att skriva in decimalerna för hand. Värdet av Pi finns i en modul som heter 'math', det är inte konstigare än att vi importerar 'math'"
   ]
  },
  {
   "cell_type": "code",
   "execution_count": null,
   "metadata": {},
   "outputs": [],
   "source": []
  },
  {
   "cell_type": "markdown",
   "metadata": {},
   "source": [
    "## 6. If-satser\n",
    "AI beskylls ibland för att enbart bestå av en massa villkor, if-satser alltså. Här ska vi sätta upp villkor. Skulle du kunna avslöja en \"AI\" som har en miljon färdiga svar på frågor?"
   ]
  },
  {
   "cell_type": "code",
   "execution_count": null,
   "metadata": {},
   "outputs": [],
   "source": []
  },
  {
   "cell_type": "markdown",
   "metadata": {},
   "source": [
    "## 7. Slutligen, slingor, loopar, iteratorer, kärt barn\n",
    "För att sysselsätta en maskin med lite mer jobb kan man instruera den att göra något tills den är färdig. Här följer några exempel på det. Vem blir första att skriva en evighetsloop? :)"
   ]
  },
  {
   "cell_type": "code",
   "execution_count": null,
   "metadata": {},
   "outputs": [],
   "source": []
  }
 ],
 "metadata": {
  "kernelspec": {
   "display_name": "Python 3 (ipykernel)",
   "language": "python",
   "name": "python3"
  },
  "language_info": {
   "codemirror_mode": {
    "name": "ipython",
    "version": 3
   },
   "file_extension": ".py",
   "mimetype": "text/x-python",
   "name": "python",
   "nbconvert_exporter": "python",
   "pygments_lexer": "ipython3",
   "version": "3.7.11"
  }
 },
 "nbformat": 4,
 "nbformat_minor": 2
}
