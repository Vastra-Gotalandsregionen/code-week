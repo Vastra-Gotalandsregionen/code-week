{
 "cells": [
  {
   "cell_type": "markdown",
   "metadata": {
    "collapsed": true
   },
   "source": [
    "# Klustring av blodtrycksdata i 3 grupper"
   ]
  },
  {
   "cell_type": "markdown",
   "metadata": {},
   "source": [
    "Exempeldata hämtat från [följande länk](http://sphweb.bumc.bu.edu/otlt/MPH-Modules/BS/BS704_BiostatisticsBasics/BS704_BiostatisticsBasics3.html)\n",
    "\n",
    "Vi kommer läsa in lite exempeldata, komplettera med egna mätningar, räkna ut 3 st centroider för dessa data (k-means-kluster), samt visa upp data i relation till de beräknade grupperna. Grupperna kan symbolisera genomsnittet för de med låga, medel eller höga siffror. \n",
    "\n",
    "**Obs! Notera att _detta är ett exempel på att bearbeta hälsodata_, inte ett sätt att ställa diagnos eller förutse någon persons hälsa.**"
   ]
  },
  {
   "cell_type": "markdown",
   "metadata": {},
   "source": [
    "## 1. Hämta pandas-modulen och läs in data från CSV-fil\n",
    "1. Modulen pandas använder vi för att bearbeta data.\n",
    "2. Vi har lite exempel på blodtrycksdata i en textfile (CSV) som vi läser in.\n",
    "3. Vi ber att få lite information om den data vi just läst in."
   ]
  },
  {
   "cell_type": "code",
   "execution_count": null,
   "metadata": {},
   "outputs": [],
   "source": []
  },
  {
   "cell_type": "markdown",
   "metadata": {},
   "source": [
    "## 2. Titta på våra data\n",
    "1. Vi väljer ut de kolumner med data som vi tycker det är intressant att jobba med, det diastoliska och systoliska trycket.\n",
    "2. Kompletterar med egna mätningar.\n",
    "3. Slår samman de inlästa mätningarna från CSV-filen och de egna mätningarna.\n",
    "4. Visar upp 'X'"
   ]
  },
  {
   "cell_type": "code",
   "execution_count": null,
   "metadata": {},
   "outputs": [],
   "source": []
  },
  {
   "cell_type": "markdown",
   "metadata": {},
   "source": [
    "## 3. Beräknar kluster (Unsupervised machine learning)\n",
    "1. Hämtar in extern modul för machine learning - KMeans.\n",
    "2. Skriver ut antalet mätvärden, vi började med 10 st i CSV-filen.\n",
    "3. Använder [K-means klustring](https://en.wikipedia.org/wiki/K-means_clustering) för att gruppera data i 3 st grupper.\n",
    "4. Skriver ut det genomsnittliga värdet för varje grupp/kluster, ett kluster per rad."
   ]
  },
  {
   "cell_type": "code",
   "execution_count": null,
   "metadata": {},
   "outputs": [],
   "source": []
  },
  {
   "cell_type": "markdown",
   "metadata": {},
   "source": [
    "## 4. Visualisera data och beräknade kluster\n",
    "1. Hämta in moduler\n",
    "2. Rita diagram för alla data\n",
    "3. Rita diagram för var centrum är för våra beräknade kluster."
   ]
  },
  {
   "cell_type": "code",
   "execution_count": null,
   "metadata": {},
   "outputs": [],
   "source": []
  }
 ],
 "metadata": {
  "kernelspec": {
   "display_name": "Python 3 (ipykernel)",
   "language": "python",
   "name": "python3"
  },
  "language_info": {
   "codemirror_mode": {
    "name": "ipython",
    "version": 3
   },
   "file_extension": ".py",
   "mimetype": "text/x-python",
   "name": "python",
   "nbconvert_exporter": "python",
   "pygments_lexer": "ipython3",
   "version": "3.7.11"
  }
 },
 "nbformat": 4,
 "nbformat_minor": 2
}
