{
 "cells": [
  {
   "cell_type": "markdown",
   "metadata": {},
   "source": [
    "# Hämta bokningsbara tider\n",
    "Anropar API:t och filtrerar fram eventuella bokningsbara tider mot covid-19."
   ]
  },
  {
   "cell_type": "markdown",
   "metadata": {},
   "source": [
    "## 1. Lista de platser som har lediga bokningsbara tider\n",
    "Användningsfall: Lista information för den som är beredd att resa för att få sitt vaccin. Användaren får både reda på antalet lediga tider för stunden (till beslutet om hen kommer hinna boka en tid) samt en länk till där bokningen sker."
   ]
  },
  {
   "cell_type": "code",
   "execution_count": null,
   "metadata": {
    "scrolled": true
   },
   "outputs": [],
   "source": []
  },
  {
   "cell_type": "markdown",
   "metadata": {},
   "source": [
    "## 2. Hur många tider finns i en viss kommun?\n",
    "Användningsfall: Exempelvis en chatbot eller telefonservice. Svarar på frågan: \n",
    "> \"Hur många vaccinationstider finns i [min-kommun]?\""
   ]
  },
  {
   "cell_type": "code",
   "execution_count": null,
   "metadata": {},
   "outputs": [],
   "source": []
  }
 ],
 "metadata": {
  "kernelspec": {
   "display_name": "Python 3 (ipykernel)",
   "language": "python",
   "name": "python3"
  },
  "language_info": {
   "codemirror_mode": {
    "name": "ipython",
    "version": 3
   },
   "file_extension": ".py",
   "mimetype": "text/x-python",
   "name": "python",
   "nbconvert_exporter": "python",
   "pygments_lexer": "ipython3",
   "version": "3.7.11"
  }
 },
 "nbformat": 4,
 "nbformat_minor": 4
}
