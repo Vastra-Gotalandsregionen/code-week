{
 "cells": [
  {
   "cell_type": "markdown",
   "id": "58eac794",
   "metadata": {},
   "source": [
    "# Hämta något på nätet (en webcrawler)\n",
    "Vi ska börja med en simpel datainsamlare som plockar upp information från VGR:s externwebb. I slutänden kan man ställa frågor mot denna information när vi sparat ner resultatet. Lite som en sökmotor."
   ]
  },
  {
   "cell_type": "markdown",
   "id": "c10b5e4c",
   "metadata": {},
   "source": [
    "## 1. Anslut till vgregion.se och hämta länkar\n",
    "Samlar in länkar från en webbadress. "
   ]
  },
  {
   "cell_type": "code",
   "execution_count": null,
   "id": "d2fd4a09",
   "metadata": {},
   "outputs": [],
   "source": []
  },
  {
   "cell_type": "markdown",
   "id": "0d6a19b1",
   "metadata": {},
   "source": [
    "## 2. Hämta sidtitel och text för de 20 första länkarna\n",
    "Det är lite så här en sökmotor som Google indexerar webben och sedan låter oss söka i deras index efter saker vi letar efter. Vi hämtar innehållet på de första 20 sidorna och sparar ner resultatet."
   ]
  },
  {
   "cell_type": "code",
   "execution_count": null,
   "id": "fd76ecb3",
   "metadata": {
    "scrolled": true
   },
   "outputs": [],
   "source": []
  },
  {
   "cell_type": "markdown",
   "id": "148f0764",
   "metadata": {},
   "source": [
    "## 3. Leta bland sidorna vi samlat in\n",
    "Här kommer själva sökmomentet in. Vi börjar med ett ord vi letar efter och sedan en for-loop som går igenom resultatet för att leta om ordet finns i den data vi samlat in.\n",
    "\n",
    "Vi har några if-satser som påverkar hur svaret ser ut. Vi gör skillnad på att ett ord kan verka vara en \"fullträff\" och därmed extra relevant i denna simpla tillämpning."
   ]
  },
  {
   "cell_type": "code",
   "execution_count": null,
   "id": "83d8f70c",
   "metadata": {},
   "outputs": [],
   "source": []
  }
 ],
 "metadata": {
  "kernelspec": {
   "display_name": "Python 3 (ipykernel)",
   "language": "python",
   "name": "python3"
  },
  "language_info": {
   "codemirror_mode": {
    "name": "ipython",
    "version": 3
   },
   "file_extension": ".py",
   "mimetype": "text/x-python",
   "name": "python",
   "nbconvert_exporter": "python",
   "pygments_lexer": "ipython3",
   "version": "3.7.11"
  }
 },
 "nbformat": 4,
 "nbformat_minor": 5
}
