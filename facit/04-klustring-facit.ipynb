{
 "cells": [
  {
   "cell_type": "markdown",
   "metadata": {
    "collapsed": true
   },
   "source": [
    "# Klustring av blodtrycksdata i 3 grupper"
   ]
  },
  {
   "cell_type": "markdown",
   "metadata": {},
   "source": [
    "Exempeldata hämtat från [följande länk](http://sphweb.bumc.bu.edu/otlt/MPH-Modules/BS/BS704_BiostatisticsBasics/BS704_BiostatisticsBasics3.html)\n",
    "\n",
    "Vi kommer läsa in lite exempeldata, komplettera med egna mätningar, räkna ut 3 st centroider för dessa data (k-means-kluster), samt visa upp data i relation till de beräknade grupperna. Grupperna kan symbolisera genomsnittet för de med låga, medel eller höga siffror. \n",
    "\n",
    "**Obs! Notera att _detta är ett exempel på att bearbeta hälsodata_, inte ett sätt att ställa diagnos eller förutse någon persons hälsa.**"
   ]
  },
  {
   "cell_type": "markdown",
   "metadata": {},
   "source": [
    "## 1. Hämta pandas-modulen och läs in data från CSV-fil\n",
    "1. Modulen pandas använder vi för att bearbeta data.\n",
    "2. Vi har lite exempel på blodtrycksdata i en textfile (CSV) som vi läser in.\n",
    "3. Vi ber att få lite information om den data vi just läst in."
   ]
  },
  {
   "cell_type": "code",
   "execution_count": 1,
   "metadata": {},
   "outputs": [
    {
     "name": "stdout",
     "output_type": "stream",
     "text": [
      "<class 'pandas.core.frame.DataFrame'>\n",
      "RangeIndex: 10 entries, 0 to 9\n",
      "Data columns (total 7 columns):\n",
      " #   Column                    Non-Null Count  Dtype  \n",
      "---  ------                    --------------  -----  \n",
      " 0   Participant ID            10 non-null     int64  \n",
      " 1   Systolic Blood Pressure   10 non-null     int64  \n",
      " 2   Diastolic Blood Pressure  10 non-null     int64  \n",
      " 3   Total Serum Cholesterol   10 non-null     int64  \n",
      " 4    Weight                   10 non-null     int64  \n",
      " 5    Height                   10 non-null     float64\n",
      " 6    Body Mass Index          10 non-null     float64\n",
      "dtypes: float64(2), int64(5)\n",
      "memory usage: 688.0 bytes\n"
     ]
    }
   ],
   "source": [
    "import pandas as pd \n",
    "\n",
    "bt = pd.read_csv('../data/blodtryck.csv', sep=';')\n",
    "\n",
    "bt.info()"
   ]
  },
  {
   "cell_type": "markdown",
   "metadata": {},
   "source": [
    "## 2. Titta på våra data\n",
    "1. Vi väljer ut de kolumner med data som vi tycker det är intressant att jobba med, det diastoliska och systoliska trycket.\n",
    "2. Kompletterar med egna mätningar.\n",
    "3. Slår samman de inlästa mätningarna från CSV-filen och de egna mätningarna.\n",
    "4. Visar upp 'X'"
   ]
  },
  {
   "cell_type": "code",
   "execution_count": 2,
   "metadata": {},
   "outputs": [
    {
     "data": {
      "text/html": [
       "<div>\n",
       "<style scoped>\n",
       "    .dataframe tbody tr th:only-of-type {\n",
       "        vertical-align: middle;\n",
       "    }\n",
       "\n",
       "    .dataframe tbody tr th {\n",
       "        vertical-align: top;\n",
       "    }\n",
       "\n",
       "    .dataframe thead th {\n",
       "        text-align: right;\n",
       "    }\n",
       "</style>\n",
       "<table border=\"1\" class=\"dataframe\">\n",
       "  <thead>\n",
       "    <tr style=\"text-align: right;\">\n",
       "      <th></th>\n",
       "      <th>Diastolic Blood Pressure</th>\n",
       "      <th>Systolic Blood Pressure</th>\n",
       "    </tr>\n",
       "  </thead>\n",
       "  <tbody>\n",
       "    <tr>\n",
       "      <th>0</th>\n",
       "      <td>76</td>\n",
       "      <td>141</td>\n",
       "    </tr>\n",
       "    <tr>\n",
       "      <th>1</th>\n",
       "      <td>64</td>\n",
       "      <td>119</td>\n",
       "    </tr>\n",
       "    <tr>\n",
       "      <th>2</th>\n",
       "      <td>62</td>\n",
       "      <td>122</td>\n",
       "    </tr>\n",
       "    <tr>\n",
       "      <th>3</th>\n",
       "      <td>81</td>\n",
       "      <td>127</td>\n",
       "    </tr>\n",
       "    <tr>\n",
       "      <th>4</th>\n",
       "      <td>70</td>\n",
       "      <td>125</td>\n",
       "    </tr>\n",
       "    <tr>\n",
       "      <th>5</th>\n",
       "      <td>72</td>\n",
       "      <td>123</td>\n",
       "    </tr>\n",
       "    <tr>\n",
       "      <th>6</th>\n",
       "      <td>81</td>\n",
       "      <td>105</td>\n",
       "    </tr>\n",
       "    <tr>\n",
       "      <th>7</th>\n",
       "      <td>63</td>\n",
       "      <td>113</td>\n",
       "    </tr>\n",
       "    <tr>\n",
       "      <th>8</th>\n",
       "      <td>67</td>\n",
       "      <td>106</td>\n",
       "    </tr>\n",
       "    <tr>\n",
       "      <th>9</th>\n",
       "      <td>77</td>\n",
       "      <td>131</td>\n",
       "    </tr>\n",
       "    <tr>\n",
       "      <th>0</th>\n",
       "      <td>75</td>\n",
       "      <td>110</td>\n",
       "    </tr>\n",
       "    <tr>\n",
       "      <th>1</th>\n",
       "      <td>80</td>\n",
       "      <td>110</td>\n",
       "    </tr>\n",
       "    <tr>\n",
       "      <th>2</th>\n",
       "      <td>80</td>\n",
       "      <td>160</td>\n",
       "    </tr>\n",
       "    <tr>\n",
       "      <th>3</th>\n",
       "      <td>71</td>\n",
       "      <td>100</td>\n",
       "    </tr>\n",
       "    <tr>\n",
       "      <th>4</th>\n",
       "      <td>70</td>\n",
       "      <td>115</td>\n",
       "    </tr>\n",
       "    <tr>\n",
       "      <th>5</th>\n",
       "      <td>70</td>\n",
       "      <td>115</td>\n",
       "    </tr>\n",
       "    <tr>\n",
       "      <th>6</th>\n",
       "      <td>65</td>\n",
       "      <td>120</td>\n",
       "    </tr>\n",
       "    <tr>\n",
       "      <th>7</th>\n",
       "      <td>90</td>\n",
       "      <td>130</td>\n",
       "    </tr>\n",
       "    <tr>\n",
       "      <th>8</th>\n",
       "      <td>40</td>\n",
       "      <td>140</td>\n",
       "    </tr>\n",
       "    <tr>\n",
       "      <th>9</th>\n",
       "      <td>70</td>\n",
       "      <td>120</td>\n",
       "    </tr>\n",
       "    <tr>\n",
       "      <th>10</th>\n",
       "      <td>85</td>\n",
       "      <td>145</td>\n",
       "    </tr>\n",
       "    <tr>\n",
       "      <th>11</th>\n",
       "      <td>65</td>\n",
       "      <td>120</td>\n",
       "    </tr>\n",
       "    <tr>\n",
       "      <th>12</th>\n",
       "      <td>90</td>\n",
       "      <td>140</td>\n",
       "    </tr>\n",
       "    <tr>\n",
       "      <th>13</th>\n",
       "      <td>95</td>\n",
       "      <td>130</td>\n",
       "    </tr>\n",
       "  </tbody>\n",
       "</table>\n",
       "</div>"
      ],
      "text/plain": [
       "    Diastolic Blood Pressure  Systolic Blood Pressure\n",
       "0                         76                      141\n",
       "1                         64                      119\n",
       "2                         62                      122\n",
       "3                         81                      127\n",
       "4                         70                      125\n",
       "5                         72                      123\n",
       "6                         81                      105\n",
       "7                         63                      113\n",
       "8                         67                      106\n",
       "9                         77                      131\n",
       "0                         75                      110\n",
       "1                         80                      110\n",
       "2                         80                      160\n",
       "3                         71                      100\n",
       "4                         70                      115\n",
       "5                         70                      115\n",
       "6                         65                      120\n",
       "7                         90                      130\n",
       "8                         40                      140\n",
       "9                         70                      120\n",
       "10                        85                      145\n",
       "11                        65                      120\n",
       "12                        90                      140\n",
       "13                        95                      130"
      ]
     },
     "execution_count": 2,
     "metadata": {},
     "output_type": "execute_result"
    }
   ],
   "source": [
    "extract = bt[['Diastolic Blood Pressure', 'Systolic Blood Pressure']]\n",
    "egna_matningar = pd.DataFrame([[75, 110], [80, 110], [80, 160], [71, 100], [70, 115], [70, 115], [65, 120], [90, 130], [40, 140], [70, 120], [85, 145], [65, 120], [90, 140], [95, 130]], columns=['Diastolic Blood Pressure', 'Systolic Blood Pressure'])\n",
    "X = pd.concat([extract, egna_matningar])\n",
    "X"
   ]
  },
  {
   "cell_type": "markdown",
   "metadata": {},
   "source": [
    "## 3. Beräknar kluster (Unsupervised machine learning)\n",
    "1. Hämtar in extern modul för machine learning - KMeans.\n",
    "2. Skriver ut antalet mätvärden, vi började med 10 st i CSV-filen.\n",
    "3. Använder [K-means klustring](https://en.wikipedia.org/wiki/K-means_clustering) för att gruppera data i 3 st grupper.\n",
    "4. Skriver ut det genomsnittliga värdet för varje grupp/kluster, ett kluster per rad."
   ]
  },
  {
   "cell_type": "code",
   "execution_count": 3,
   "metadata": {},
   "outputs": [
    {
     "name": "stdout",
     "output_type": "stream",
     "text": [
      "Antal mätningar: 24\n"
     ]
    },
    {
     "data": {
      "text/plain": [
       "array([[ 84.25      , 138.        ],\n",
       "       [ 69.66666667, 114.86666667],\n",
       "       [ 40.        , 140.        ]])"
      ]
     },
     "execution_count": 3,
     "metadata": {},
     "output_type": "execute_result"
    }
   ],
   "source": [
    "from sklearn.cluster import KMeans\n",
    "print('Antal mätningar:', len(X))\n",
    "\n",
    "kmeans = KMeans(n_clusters=3, random_state=0).fit(X)\n",
    "centrum = kmeans.cluster_centers_\n",
    "centrum"
   ]
  },
  {
   "cell_type": "markdown",
   "metadata": {},
   "source": [
    "## 4. Visualisera data och beräknade kluster\n",
    "1. Hämta in moduler\n",
    "2. Rita diagram för alla data\n",
    "3. Rita diagram för var centrum är för våra beräknade kluster."
   ]
  },
  {
   "cell_type": "code",
   "execution_count": 4,
   "metadata": {},
   "outputs": [
    {
     "name": "stderr",
     "output_type": "stream",
     "text": [
      "/Users/marcusosterberg/opt/anaconda3/envs/Webperf-3sju/lib/python3.7/site-packages/seaborn/_decorators.py:43: FutureWarning: Pass the following variables as keyword args: x, y. From version 0.12, the only valid positional argument will be `data`, and passing other arguments without an explicit keyword will result in an error or misinterpretation.\n",
      "  FutureWarning\n",
      "/Users/marcusosterberg/opt/anaconda3/envs/Webperf-3sju/lib/python3.7/site-packages/seaborn/_decorators.py:43: FutureWarning: Pass the following variables as keyword args: x, y. From version 0.12, the only valid positional argument will be `data`, and passing other arguments without an explicit keyword will result in an error or misinterpretation.\n",
      "  FutureWarning\n"
     ]
    },
    {
     "data": {
      "text/plain": [
       "<seaborn.axisgrid.FacetGrid at 0x7f9601ff50d0>"
      ]
     },
     "execution_count": 4,
     "metadata": {},
     "output_type": "execute_result"
    },
    {
     "data": {
      "image/png": "[encoded data removed]",
      "text/plain": [
       "<Figure size 360x360 with 1 Axes>"
      ]
     },
     "metadata": {
      "needs_background": "light"
     },
     "output_type": "display_data"
    },
    {
     "data": {
      "image/png": "[encoded data removed]",
      "text/plain": [
       "<Figure size 360x360 with 1 Axes>"
      ]
     },
     "metadata": {
      "needs_background": "light"
     },
     "output_type": "display_data"
    }
   ],
   "source": [
    "%matplotlib inline\n",
    "import matplotlib.pyplot as plt\n",
    "import seaborn as sns\n",
    "\n",
    "sns.lmplot('Diastolic Blood Pressure', 'Systolic Blood Pressure', data=X, fit_reg=False)\n",
    "\n",
    "centrum_dataset = pd.DataFrame({'Diastolic Blood Pressure':centrum[:,0],'Systolic Blood Pressure':centrum[:,1]})\n",
    "\n",
    "sns.lmplot('Diastolic Blood Pressure', 'Systolic Blood Pressure', data=centrum_dataset, fit_reg=False)"
   ]
  },
  {
   "cell_type": "code",
   "execution_count": null,
   "metadata": {},
   "outputs": [],
   "source": []
  }
 ],
 "metadata": {
  "kernelspec": {
   "display_name": "Python 3 (ipykernel)",
   "language": "python",
   "name": "python3"
  },
  "language_info": {
   "codemirror_mode": {
    "name": "ipython",
    "version": 3
   },
   "file_extension": ".py",
   "mimetype": "text/x-python",
   "name": "python",
   "nbconvert_exporter": "python",
   "pygments_lexer": "ipython3",
   "version": "3.7.11"
  }
 },
 "nbformat": 4,
 "nbformat_minor": 2
}
