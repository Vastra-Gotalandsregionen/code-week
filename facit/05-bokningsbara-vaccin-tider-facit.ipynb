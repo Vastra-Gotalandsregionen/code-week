{
 "cells": [
  {
   "cell_type": "markdown",
   "metadata": {},
   "source": [
    "# Hämta bokningsbara tider\n",
    "Anropar API:t och filtrerar fram eventuella bokningsbara tider mot covid-19."
   ]
  },
  {
   "cell_type": "markdown",
   "metadata": {},
   "source": [
    "## 1. Lista de platser som har lediga bokningsbara tider\n",
    "Användningsfall: Lista information för den som är beredd att resa för att få sitt vaccin. Användaren får både reda på antalet lediga tider för stunden (till beslutet om hen kommer hinna boka en tid) samt en länk till där bokningen sker."
   ]
  },
  {
   "cell_type": "code",
   "execution_count": 1,
   "metadata": {
    "scrolled": true
   },
   "outputs": [
    {
     "name": "stdout",
     "output_type": "stream",
     "text": [
      "Närhälsan Furulund vårdcentral har 9 st lediga tider - boka här https://e-tjanster.1177.se/mvk/scheduling/tbMakeValidation.xhtml?hsaid=SE2321000131-E000000004567&dynamicid=bb0225fc-7c37-47c1-8558-ddb991501c2c\n",
      "Närhälsan Tranemo vårdcentral har 80 st lediga tider - boka här https://e-tjanster.1177.se/mvk/scheduling/tbMakeValidation.xhtml?hsaid=SE2321000131-E000000000443&dynamicid=bb0225fc-7c37-47c1-8558-ddb991501c2c\n",
      "Närhälsan Vårgårda vårdcentral har 14 st lediga tider - boka här https://e-tjanster.1177.se/mvk/scheduling/tbMakeValidation.xhtml?hsaid=SE2321000131-E000000001691&dynamicid=bb0225fc-7c37-47c1-8558-ddb991501c2c\n",
      "Närhälsan Styrsö vårdcentral har 120 st lediga tider - boka här https://e-tjanster.1177.se/mvk/scheduling/tbMakeValidation.xhtml?hsaid=SE2321000131-E000000006741&dynamicid=bb0225fc-7c37-47c1-8558-ddb991501c2c\n",
      "Närhälsan Vara vårdcentral har 63 st lediga tider - boka här https://e-tjanster.1177.se/mvk/scheduling/tbMakeValidation.xhtml?hsaid=SE2321000131-E000000000489&dynamicid=bb0225fc-7c37-47c1-8558-ddb991501c2c\n",
      "Närhälsan Ulricehamn vårdcentral har 27 st lediga tider - boka här https://e-tjanster.1177.se/mvk/scheduling/tbMakeValidation.xhtml?hsaid=SE2321000131-E000000000444&dynamicid=bb0225fc-7c37-47c1-8558-ddb991501c2c\n",
      "Nötkärnan Hovås Askim Familjeläkare och BVC har 23 st lediga tider - boka här https://dl.notkarnan.se\n",
      "Närhälsan Solgärde vårdcentral har 210 st lediga tider - boka här https://e-tjanster.1177.se/mvk/scheduling/tbMakeValidation.xhtml?hsaid=SE2321000131-E000000005569&dynamicid=bb0225fc-7c37-47c1-8558-ddb991501c2c\n",
      "Närhälsan Tidan vårdcentral har 1 st lediga tider - boka här https://e-tjanster.1177.se/mvk/scheduling/tbMakeValidation.xhtml?hsaid=SE2321000131-E000000000552&dynamicid=bb0225fc-7c37-47c1-8558-ddb991501c2c\n",
      "Närhälsan Alingsås vaccinationsmottagning har 172 st lediga tider - boka här https://e-tjanster.1177.se/mvk/scheduling/tbMakeValidation.xhtml?hsaid=SE2321000131-E000000007983&dynamicid=bb0225fc-7c37-47c1-8558-ddb991501c2c\n",
      "Nötkärnan Kållered Familjeläkare och BVC har 795 st lediga tider - boka här https://dl.notkarnan.se\n",
      "Närhälsan Herrljunga vårdcentral har 36 st lediga tider - boka här https://e-tjanster.1177.se/mvk/scheduling/tbMakeValidation.xhtml?hsaid=SE2321000131-E000000001689&dynamicid=bb0225fc-7c37-47c1-8558-ddb991501c2c\n",
      "Närhälsan Tjörn vårdcentral har 19 st lediga tider - boka här https://e-tjanster.1177.se/mvk/scheduling/tbMakeValidation.xhtml?hsaid=SE2321000131-E000000005514&dynamicid=bb0225fc-7c37-47c1-8558-ddb991501c2c\n",
      "Närhälsan Skogslyckan vårdcentral har 41 st lediga tider - boka här https://e-tjanster.1177.se/mvk/scheduling/tbMakeValidation.xhtml?hsaid=SE2321000131-E000000000540&dynamicid=bb0225fc-7c37-47c1-8558-ddb991501c2c\n",
      "Närhälsan Angered vårdcentral har 84 st lediga tider - boka här https://e-tjanster.1177.se/mvk/scheduling/tbMakeValidation.xhtml?hsaid=SE2321000131-E000000006727&dynamicid=bb0225fc-7c37-47c1-8558-ddb991501c2c\n",
      "Närhälsan Hjo vårdcentral har 16 st lediga tider - boka här https://e-tjanster.1177.se/mvk/scheduling/tbMakeValidation.xhtml?hsaid=SE2321000131-E000000000465&dynamicid=bb0225fc-7c37-47c1-8558-ddb991501c2c\n",
      "Närhälsan Tibro vårdcentral har 19 st lediga tider - boka här https://e-tjanster.1177.se/mvk/scheduling/tbMakeValidation.xhtml?hsaid=SE2321000131-E000000000464&dynamicid=bb0225fc-7c37-47c1-8558-ddb991501c2c\n",
      "Närhälsan Björkekärr vårdcentral har 61 st lediga tider - boka här https://e-tjanster.1177.se/mvk/scheduling/tbMakeValidation.xhtml?hsaid=SE2321000131-E000000001638&dynamicid=bb0225fc-7c37-47c1-8558-ddb991501c2c\n",
      "Närhälsan Partille vårdcentral har 346 st lediga tider - boka här https://e-tjanster.1177.se/mvk/scheduling/tbMake.xhtml?dynamicid=bb0225fc-7c37-47c1-8558-ddb991501c2c&hsaid=SE2321000131-E000000000269&hsaIdChangeFacility=SE2321000131-E000000000269\n",
      "Närhälsan Vänerparken vårdcentral har 103 st lediga tider - boka här https://e-tjanster.1177.se/mvk/scheduling/tbMakeValidation.xhtml?hsaid=SE2321000131-E000000000543&dynamicid=bb0225fc-7c37-47c1-8558-ddb991501c2c\n",
      "Närhälsan Oden vårdcentral har 85 st lediga tider - boka här https://e-tjanster.1177.se/mvk/scheduling/tbMakeValidation.xhtml?hsaid=SE2321000131-E000000000454&dynamicid=bb0225fc-7c37-47c1-8558-ddb991501c2c\n",
      "Närhälsan Öckerö vårdcentral har 3 st lediga tider - boka här https://e-tjanster.1177.se/mvk/scheduling/tbMakeValidation.xhtml?hsaid=SE2321000131-E000000005543&dynamicid=bb0225fc-7c37-47c1-8558-ddb991501c2c\n",
      "Närhälsan Älvängen vårdcentral har 5 st lediga tider - boka här https://e-tjanster.1177.se/mvk/scheduling/tbMakeValidation.xhtml?hsaid=SE2321000131-E000000004530&dynamicid=bb0225fc-7c37-47c1-8558-ddb991501c2c\n",
      "Närhälsan Bäckefors Dalslands Sjukhus har 27 st lediga tider - boka här https://e-tjanster.1177.se/mvk/scheduling/tbMakeValidation.xhtml?hsaid=SE2321000131-E000000002032&dynamicid=bb0225fc-7c37-47c1-8558-ddb991501c2c\n",
      "Närhälsan Mariestad Sjukhus har 36 st lediga tider - boka här https://e-tjanster.1177.se/mvk/scheduling/tbMakeValidation.xhtml?hsaid=SE2321000131-E000000007323&dynamicid=bb0225fc-7c37-47c1-8558-ddb991501c2c\n",
      "Närhälsan Lindome vårdcentral har 238 st lediga tider - boka här https://e-tjanster.1177.se/mvk/scheduling/tbMakeValidation.xhtml?hsaid=SE2321000131-E000000000214&dynamicid=bb0225fc-7c37-47c1-8558-ddb991501c2c\n",
      "Närhälsan Töreboda vårdcentral har 19 st lediga tider - boka här https://e-tjanster.1177.se/mvk/scheduling/tbMakeValidation.xhtml?hsaid=SE2321000131-E000000001665&dynamicid=bb0225fc-7c37-47c1-8558-ddb991501c2c\n",
      "Närhälsan Stenungsund vårdcentral har 384 st lediga tider - boka här https://e-tjanster.1177.se/mvk/scheduling/tbMakeValidation.xhtml?hsaid=SE2321000131-E000000000216&dynamicid=bb0225fc-7c37-47c1-8558-ddb991501c2c\n",
      "Närhälsan Stenstorp vårdcentral har 13 st lediga tider - boka här https://e-tjanster.1177.se/mvk/scheduling/tbMakeValidation.xhtml?hsaid=SE2321000131-E000000000457&dynamicid=bb0225fc-7c37-47c1-8558-ddb991501c2c\n",
      "Drive In Nötkärnan Slottsskogen har 795 st lediga tider - boka här https://notkarnandrivein.se/boka\n",
      "Närhälsan Olskroken vårdcentral har 251 st lediga tider - boka här https://e-tjanster.1177.se/mvk/scheduling/tbMakeValidation.xhtml?hsaid=SE2321000131-E000000000380&dynamicid=bb0225fc-7c37-47c1-8558-ddb991501c2c\n",
      "Närhälsan Stora Höga vårdcentral har 44 st lediga tider - boka här https://e-tjanster.1177.se/mvk/scheduling/tbMakeValidation.xhtml?hsaid=SE2321000131-E000000005470&dynamicid=bb0225fc-7c37-47c1-8558-ddb991501c2c\n"
     ]
    }
   ],
   "source": [
    "import requests\n",
    "import json\n",
    "\n",
    "# uncomment when using the API \n",
    "\"\"\"\n",
    "headers = {\n",
    "    'client_id':'c4d279f9b8094dbaafd0162c5a606623', \n",
    "    'client_secret': '39D6cAB5D89c448ea3355aAC61De19e7'\n",
    "}\n",
    "\n",
    "req = requests.get('https://test.api.vgregion.se/e-crm-scheduling-public/api/v1/testCenter', headers = headers)\n",
    "data = json.load(req.text)\n",
    "\n",
    "testcenters = data['testcenters']\n",
    "\n",
    "for testcenter in testcenters:\n",
    "    if testcenter['timeslots'] != 0 and testcenter['timeslots'] != None:\n",
    "        print('{0} har {1} st lediga tider - boka här {2}'.format(testcenter['title'], testcenter['timeslots'], testcenter['urlBooking']))\n",
    "\"\"\"\n",
    "  \n",
    "# Opening JSON file\n",
    "with open('../data/vaccintider-2022-06-03.json') as json_file:\n",
    "    data = json.load(json_file)\n",
    "    \n",
    "    testcenters = data['testcenters']\n",
    "  \n",
    "    # Print the data of dictionary\n",
    "    # print(\"\\ntestcenters:\", testcenters)\n",
    "\n",
    "    # print(len(testcenters), 'testcenter')\n",
    "    \n",
    "    for testcenter in testcenters:\n",
    "        if testcenter['timeslots'] != 0 and testcenter['timeslots'] != None:\n",
    "            print('{0} har {1} st lediga tider - boka här {2}'.format(testcenter['title'], testcenter['timeslots'], testcenter['urlBooking']))"
   ]
  },
  {
   "cell_type": "markdown",
   "metadata": {},
   "source": [
    "## 2. Hur många tider finns i en viss kommun?\n",
    "Användningsfall: Exempelvis en chatbot eller telefonservice. Svarar på frågan: \n",
    "> \"Hur många vaccinationstider finns i [min-kommun]?\""
   ]
  },
  {
   "cell_type": "code",
   "execution_count": 2,
   "metadata": {},
   "outputs": [
    {
     "name": "stdout",
     "output_type": "stream",
     "text": [
      "Det finns 1334 lediga tider i Göteborg. Vill du boka en?\n",
      "Det finns 27 lediga tider i Bengtsfors. Vill du boka en?\n",
      "Det finns 36 lediga tider i Mariestad. Vill du boka en?\n"
     ]
    }
   ],
   "source": [
    "import requests\n",
    "import json\n",
    "import csv\n",
    "\n",
    "def initialize_municipalities():\n",
    "    \"\"\"\n",
    "    Fetching the municipalities' names and codes\n",
    "    \"\"\"\n",
    "    municipalities_dict = dict()\n",
    "    \n",
    "    with open('../data/kommunkoder.csv', newline='') as csvfile:\n",
    "        csv_reader = csv.reader(csvfile, delimiter=';', quotechar='|')\n",
    "\n",
    "        # adding municipalities and their corresponding codes to a dictionary\n",
    "        for row in csv_reader:        \n",
    "            municipalities_dict[row[1]] = row[0]\n",
    "\n",
    "    return municipalities_dict\n",
    "\n",
    "def initialize_testcenters():\n",
    "    \"\"\"\n",
    "    Getting all available timeslots\n",
    "    \"\"\"\n",
    "    testcenters = None\n",
    "    \n",
    "    with open('../data/vaccintider-2022-06-03.json') as json_file:\n",
    "        data = json.load(json_file)\n",
    "\n",
    "        testcenters = data['testcenters']\n",
    "    \n",
    "    return testcenters\n",
    "\n",
    "def check_municipality_for_timeslots(municipalities, testcenters, municipality=\"Göteborg\"):\n",
    "    \"\"\"\n",
    "    Looking for eventual timeslots in a particular municipality\n",
    "    \"\"\"\n",
    "    municipality_code = municipalities[municipality]\n",
    "    \n",
    "    timeslots = 0\n",
    "    \n",
    "    for testcenter in testcenters:\n",
    "        if testcenter['municipality'] == municipality_code:\n",
    "            if testcenter['timeslots'] != None:\n",
    "                timeslots += int(testcenter['timeslots'])\n",
    "    \n",
    "    if timeslots > 0:\n",
    "        return 'Det finns {0} lediga tider i {1}. Vill du boka en?'.format(timeslots, municipality)\n",
    "    else:\n",
    "        return 'Jag är ledsen! Det verkar inte finnas några bokningsbara vaccintider i {0} just nu.'.format(municipality)\n",
    "\n",
    "# initializing external data resources\n",
    "municipalities = initialize_municipalities()\n",
    "testcenters = initialize_testcenters()\n",
    "\n",
    "# testing some municipalities\n",
    "print(check_municipality_for_timeslots(municipalities, testcenters, municipality=\"Göteborg\"))\n",
    "print(check_municipality_for_timeslots(municipalities, testcenters, municipality=\"Bengtsfors\"))\n",
    "print(check_municipality_for_timeslots(municipalities, testcenters, municipality=\"Mariestad\"))"
   ]
  },
  {
   "cell_type": "code",
   "execution_count": null,
   "metadata": {},
   "outputs": [],
   "source": []
  }
 ],
 "metadata": {
  "kernelspec": {
   "display_name": "Python 3 (ipykernel)",
   "language": "python",
   "name": "python3"
  },
  "language_info": {
   "codemirror_mode": {
    "name": "ipython",
    "version": 3
   },
   "file_extension": ".py",
   "mimetype": "text/x-python",
   "name": "python",
   "nbconvert_exporter": "python",
   "pygments_lexer": "ipython3",
   "version": "3.7.11"
  }
 },
 "nbformat": 4,
 "nbformat_minor": 4
}
