{
 "cells": [
  {
   "cell_type": "markdown",
   "metadata": {},
   "source": [
    "# Machine learning med tio rader kod\n",
    "Att lära en maskin genom exempel och erfarenheter, istället för att manuellt mata in regler. Detta genom supervised machine learning.\n",
    "Maskinen ska förutspå om en ny frukt är en apelsin eller äpple baserat på tidigare erfarenheter."
   ]
  },
  {
   "cell_type": "markdown",
   "metadata": {},
   "source": [
    "## 1. Samla in träningsdata\n",
    "Det som avslöjar denna machine learning som just en *supervised* machine learning är för att vi har labels. Labels är de etiketter med beskrivande svar vi matar maskinen med.\n",
    "\n",
    "*Obs! De kantiga parenteserna får du till genom knappen Alt Gr och siffrorna 8 eller 9 på Windows. På Mac heter Alt Gr istället Option.*"
   ]
  },
  {
   "cell_type": "code",
   "execution_count": null,
   "metadata": {},
   "outputs": [],
   "source": [
    "from sklearn import tree\n",
    "# traningsdata: vikt i gram, ytans beskaffenhet (0 för len, 1 för gropig)\n",
    "# traningsdata = [[140, \"len\"], [130, \"len\"], [150, \"gropig\"], [170, \"gropig\"]]\n",
    "traningsdata = [[140, 0], [130, 0], [150, 1], [170, 1]]\n",
    "\n",
    "# etiketter = [\"äpple\", \"äpple\", \"apelsin\", \"apelsin\"]\n",
    "# etiketter = 0 för äpple, 1 för apelsin\n",
    "etiketter = [0, 0, 1, 1]"
   ]
  },
  {
   "cell_type": "markdown",
   "metadata": {},
   "source": [
    "## 2. Träna upp klassificeraren och leta mönster i data\n",
    "Vi kör med ett beslutsträd (decision tree)"
   ]
  },
  {
   "cell_type": "code",
   "execution_count": null,
   "metadata": {},
   "outputs": [],
   "source": [
    "klass = tree.DecisionTreeClassifier()\n",
    "klass = klass.fit(traningsdata, etiketter)"
   ]
  },
  {
   "cell_type": "markdown",
   "metadata": {},
   "source": [
    "## 3. Predicera\n",
    "Förutsäg vilken sorts frukt något är baserat på dess egenskaper"
   ]
  },
  {
   "cell_type": "code",
   "execution_count": null,
   "metadata": {},
   "outputs": [],
   "source": [
    "ny_frukt = [[180, 1]] # ny frukt, 180 gram och gropig yta\n",
    "\n",
    "if 1 in klass.predict(ny_frukt):\n",
    "    print(\"Apelsin\")\n",
    "else:\n",
    "    print(\"Äpple\")"
   ]
  },
  {
   "cell_type": "markdown",
   "metadata": {},
   "source": [
    "Grattis! Nu har du prövat på övervakad maskininlärning, en av AI-teknikerna."
   ]
  },
  {
   "cell_type": "markdown",
   "metadata": {},
   "source": [
    "----\n",
    "## Överkurs\n",
    "Nedan kan man gå igenom vid frågor eller om tid finnes\n",
    "### Hur ser beslutsträdet ut?\n",
    "Med nedan kod kan man få information om beslutsträdets struktur. Alltså se vilka värden som sorteras till respektive prediktion."
   ]
  },
  {
   "cell_type": "code",
   "execution_count": null,
   "metadata": {},
   "outputs": [],
   "source": [
    "tree.plot_tree(klass)"
   ]
  }
 ],
 "metadata": {
  "kernelspec": {
   "display_name": "Python 3 (ipykernel)",
   "language": "python",
   "name": "python3"
  },
  "language_info": {
   "codemirror_mode": {
    "name": "ipython",
    "version": 3
   },
   "file_extension": ".py",
   "mimetype": "text/x-python",
   "name": "python",
   "nbconvert_exporter": "python",
   "pygments_lexer": "ipython3",
   "version": "3.7.11"
  }
 },
 "nbformat": 4,
 "nbformat_minor": 1
}
